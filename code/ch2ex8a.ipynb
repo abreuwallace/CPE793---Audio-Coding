{
 "cells": [
  {
   "cell_type": "code",
   "execution_count": 253,
   "metadata": {},
   "outputs": [],
   "source": [
    "def get_m_bits(number, m):\n",
    "    binary = bin(number)[2:]\n",
    "    if m > len(binary):\n",
    "        print('m is bigger than \"number\" bits, please choose a lower m' )\n",
    "    else: \n",
    "        return binary[-m:]"
   ]
  },
  {
   "cell_type": "code",
   "execution_count": 254,
   "metadata": {},
   "outputs": [],
   "source": [
    "def insert_bits_into_bytearray(array, bits, N):\n",
    "    if 'b' in bits:\n",
    "        bits = bits[2:]\n",
    "    bitstring = ''\n",
    "    byte_list = []\n",
    "    for i in array:\n",
    "        bitstring += bin(i)[2:]\n",
    "    new_string = bitstring[:N] + bits + bitstring[N:]\n",
    "    for j in range(0, len(new_string), 8):\n",
    "        byte = new_string[j:j+8]\n",
    "        byte_list.append(int(byte, 2))\n",
    "    return bytearray(byte_list)"
   ]
  },
  {
   "cell_type": "code",
   "execution_count": 255,
   "metadata": {},
   "outputs": [],
   "source": [
    "from bitstring import BitArray"
   ]
  },
  {
   "cell_type": "code",
   "execution_count": 256,
   "metadata": {},
   "outputs": [],
   "source": [
    "char_map =     {'a': '00000', 'b': '00001', 'c': '00010',\n",
    "                'd': '00011', 'e': '00100', 'f': '00101',\n",
    "                'g': '00110', 'h': '00111', 'i': '01000',\n",
    "                'j': '01001', 'k': '01010', 'l': '01011',\n",
    "                'm': '01100', 'n': '01101', 'o': '01110',\n",
    "                'p': '01111', 'q': '10000', 'r': '10001',\n",
    "                's': '10010', 't': '10011', 'u': '10100',\n",
    "                'v': '10101', 'w': '10110', 'x': '10111',\n",
    "                'y': '11000', 'z': '11001', '1': '01011',\n",
    "                '2': '11010', '3': '00100', '4': '00000',\n",
    "                '5': '10010', '6': '00001', ' ': '11011',\n",
    "                '8': '11100', '9': '11101', '0': '01110',\n",
    "             'spec': '11110', 'cap':'11111'\n",
    "               }\n",
    "\n",
    "\n",
    "spec_char_map = {'ç': '00000', '?': '00001', '!': '00010', \n",
    "                 '&': '00011', '-': '00100', '7': '00101',\n",
    "                 ',': '00110', '\\r': '00111', '\\n':'01000',\n",
    "                 '.': '01001'\n",
    "                }\n",
    "\n",
    "inv_map = {v: k for k, v in char_map.items()}\n",
    "inv_spec_map = {v: k for k, v in spec_char_map.items()}\n",
    "\n",
    "def five_bits_encoding(string):\n",
    "    result = ''\n",
    "    capitalized = 0\n",
    "    for c in string:\n",
    "        if c in spec_chars.keys():\n",
    "            result += char_mapping['spec']\n",
    "            result += spec_chars[c]\n",
    "        else:\n",
    "            if c.isupper():\n",
    "                capitalized = 1\n",
    "                result += char_mapping['cap']\n",
    "            result += char_mapping[c.lower()]\n",
    "            capitalized = 0\n",
    "    if len(result) % 8 != 0:\n",
    "        result += '0' * (8 - (len(result) % 8))\n",
    "    return result\n",
    "\n",
    "def encode_file(source_file, output_file):\n",
    "    sf = open(source_file, 'rb')\n",
    "    file_string = sf.read()\n",
    "    five_bits_string = five_bits_encoding(file_string.decode('ascii'))\n",
    "    encoded_string = ''\n",
    "    for l in range(0, len(five_bits_string), 8):\n",
    "        encoded_string += chr(int(five_bits_string[l:l+8], 2))\n",
    "    of = open(output_file, 'wb')\n",
    "    for l in range(0, len(five_bits_string), 8):\n",
    "        of.write(int(five_bits_string[l:l+8], 2).to_bytes(1, byteorder='big'))\n",
    "    of.close()\n",
    "    sf.close()\n",
    "    \n",
    "def decode_file(source_file, output_file):\n",
    "    with open(source_file, \"rb\") as sf:\n",
    "        capitalized = 0\n",
    "        special = 0\n",
    "        file_bytes = BitArray(sf.read()).bin\n",
    "        decode_file = open(output_file, \"wb\")\n",
    "        for b in range(0, len(file_bytes), 5):\n",
    "            five_bits = file_bytes[b:b+5]\n",
    "            if five_bits == char_mapping['cap']:\n",
    "                capitalized = 1\n",
    "            elif five_bits == char_mapping['spec']:\n",
    "                special = 1\n",
    "            else: \n",
    "                if len(five_bits) == 5:\n",
    "                    if capitalized == 1 :\n",
    "                        decode_file.write(bytes(inv_map[five_bits], 'ascii').upper())\n",
    "                        capitalized = 0\n",
    "                    elif special == 1:\n",
    "                        decode_file.write(bytes(inv_spec[five_bits], 'ascii').upper())\n",
    "                        special = 0\n",
    "                    else:\n",
    "                        decode_file.write(bytes(inv_map[file_bits[b:b+5]], 'ascii'))\n",
    "        sf.close()\n",
    "        decode_file.close()"
   ]
  },
  {
   "cell_type": "code",
   "execution_count": 257,
   "metadata": {},
   "outputs": [],
   "source": [
    "encode_file('wikipedia_spec.txt', 'testecod')"
   ]
  },
  {
   "cell_type": "code",
   "execution_count": 258,
   "metadata": {},
   "outputs": [],
   "source": [
    "decode_file('testecod', 'testedec')"
   ]
  }
 ],
 "metadata": {
  "kernelspec": {
   "display_name": "Python 3",
   "language": "python",
   "name": "python3"
  },
  "language_info": {
   "codemirror_mode": {
    "name": "ipython",
    "version": 3
   },
   "file_extension": ".py",
   "mimetype": "text/x-python",
   "name": "python",
   "nbconvert_exporter": "python",
   "pygments_lexer": "ipython3",
   "version": "3.7.2"
  }
 },
 "nbformat": 4,
 "nbformat_minor": 2
}
